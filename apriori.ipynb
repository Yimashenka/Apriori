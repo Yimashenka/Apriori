{
 "cells": [
  {
   "cell_type": "markdown",
   "source": [
    "# Apriori"
   ],
   "metadata": {
    "collapsed": false
   }
  },
  {
   "cell_type": "markdown",
   "source": [
    "## Importing the libraries"
   ],
   "metadata": {
    "collapsed": false
   }
  },
  {
   "cell_type": "code",
   "execution_count": 1,
   "outputs": [
    {
     "name": "stdout",
     "output_type": "stream",
     "text": [
      "Requirement already satisfied: apyori in c:\\users\\shadow\\appdata\\local\\programs\\python\\python311\\lib\\site-packages (1.1.2)\n"
     ]
    },
    {
     "name": "stderr",
     "output_type": "stream",
     "text": [
      "\n",
      "[notice] A new release of pip available: 22.3.1 -> 23.1.2\n",
      "[notice] To update, run: python.exe -m pip install --upgrade pip\n"
     ]
    }
   ],
   "source": [
    "!pip install apyori"
   ],
   "metadata": {
    "collapsed": false,
    "ExecuteTime": {
     "start_time": "2023-04-27T13:23:05.897670Z",
     "end_time": "2023-04-27T13:23:10.778669Z"
    }
   }
  },
  {
   "cell_type": "code",
   "execution_count": 2,
   "outputs": [],
   "source": [
    "import numpy as np\n",
    "import pandas as pd\n",
    "import matplotlib.pyplot as plt"
   ],
   "metadata": {
    "collapsed": false,
    "ExecuteTime": {
     "start_time": "2023-04-27T13:23:10.776169Z",
     "end_time": "2023-04-27T13:23:15.107174Z"
    }
   }
  },
  {
   "cell_type": "markdown",
   "source": [
    "## Data preprocessing"
   ],
   "metadata": {
    "collapsed": false
   }
  },
  {
   "cell_type": "code",
   "execution_count": 3,
   "outputs": [],
   "source": [
    "dataset = pd.read_csv('Market_Basket_Optimisation.csv', header=None)\n",
    "transactions = dataset.values.astype(str).tolist()"
   ],
   "metadata": {
    "collapsed": false,
    "ExecuteTime": {
     "start_time": "2023-04-27T13:23:15.107677Z",
     "end_time": "2023-04-27T13:23:15.182668Z"
    }
   }
  },
  {
   "cell_type": "markdown",
   "source": [
    "## Training the apriori model"
   ],
   "metadata": {
    "collapsed": false
   }
  },
  {
   "cell_type": "code",
   "execution_count": 4,
   "outputs": [],
   "source": [
    "from apyori import apriori\n",
    "rules = apriori(\n",
    "    transactions = transactions,\n",
    "    min_support = 0.003,\n",
    "    min_confidence = 0.2,\n",
    "    min_lift = 3,\n",
    "    min_length = 2,\n",
    "    max_length = 2\n",
    ")"
   ],
   "metadata": {
    "collapsed": false,
    "ExecuteTime": {
     "start_time": "2023-04-27T13:23:15.183685Z",
     "end_time": "2023-04-27T13:23:15.191671Z"
    }
   }
  },
  {
   "cell_type": "markdown",
   "source": [
    "## Visualising the results"
   ],
   "metadata": {
    "collapsed": false
   }
  },
  {
   "cell_type": "markdown",
   "source": [
    "### Displaying the first results coming directly from the output of the apriori function"
   ],
   "metadata": {
    "collapsed": false
   }
  },
  {
   "cell_type": "code",
   "execution_count": 5,
   "outputs": [
    {
     "data": {
      "text/plain": "[RelationRecord(items=frozenset({'light cream', 'chicken'}), support=0.004532728969470737, ordered_statistics=[OrderedStatistic(items_base=frozenset({'light cream'}), items_add=frozenset({'chicken'}), confidence=0.29059829059829057, lift=4.84395061728395)]),\n RelationRecord(items=frozenset({'escalope', 'mushroom cream sauce'}), support=0.005732568990801226, ordered_statistics=[OrderedStatistic(items_base=frozenset({'mushroom cream sauce'}), items_add=frozenset({'escalope'}), confidence=0.3006993006993007, lift=3.790832696715049)]),\n RelationRecord(items=frozenset({'escalope', 'pasta'}), support=0.005865884548726837, ordered_statistics=[OrderedStatistic(items_base=frozenset({'pasta'}), items_add=frozenset({'escalope'}), confidence=0.3728813559322034, lift=4.700811850163794)]),\n RelationRecord(items=frozenset({'honey', 'fromage blanc'}), support=0.003332888948140248, ordered_statistics=[OrderedStatistic(items_base=frozenset({'fromage blanc'}), items_add=frozenset({'honey'}), confidence=0.2450980392156863, lift=5.164270764485569)]),\n RelationRecord(items=frozenset({'ground beef', 'herb & pepper'}), support=0.015997866951073192, ordered_statistics=[OrderedStatistic(items_base=frozenset({'herb & pepper'}), items_add=frozenset({'ground beef'}), confidence=0.3234501347708895, lift=3.2919938411349285)]),\n RelationRecord(items=frozenset({'tomato sauce', 'ground beef'}), support=0.005332622317024397, ordered_statistics=[OrderedStatistic(items_base=frozenset({'tomato sauce'}), items_add=frozenset({'ground beef'}), confidence=0.3773584905660377, lift=3.840659481324083)]),\n RelationRecord(items=frozenset({'olive oil', 'light cream'}), support=0.003199573390214638, ordered_statistics=[OrderedStatistic(items_base=frozenset({'light cream'}), items_add=frozenset({'olive oil'}), confidence=0.20512820512820515, lift=3.1147098515519573)]),\n RelationRecord(items=frozenset({'olive oil', 'whole wheat pasta'}), support=0.007998933475536596, ordered_statistics=[OrderedStatistic(items_base=frozenset({'whole wheat pasta'}), items_add=frozenset({'olive oil'}), confidence=0.2714932126696833, lift=4.122410097642296)]),\n RelationRecord(items=frozenset({'shrimp', 'pasta'}), support=0.005065991201173177, ordered_statistics=[OrderedStatistic(items_base=frozenset({'pasta'}), items_add=frozenset({'shrimp'}), confidence=0.3220338983050847, lift=4.506672147735896)])]"
     },
     "execution_count": 5,
     "metadata": {},
     "output_type": "execute_result"
    }
   ],
   "source": [
    "results = list(rules)\n",
    "results"
   ],
   "metadata": {
    "collapsed": false,
    "ExecuteTime": {
     "start_time": "2023-04-27T13:23:15.193169Z",
     "end_time": "2023-04-27T13:23:15.267172Z"
    }
   }
  },
  {
   "cell_type": "markdown",
   "source": [
    "### Putting the results well organised in a Pandas df"
   ],
   "metadata": {
    "collapsed": false
   }
  },
  {
   "cell_type": "code",
   "execution_count": 8,
   "outputs": [],
   "source": [
    "def inspect(results):\n",
    "    lhs = [tuple(result[2][0][0])[0] for result in results]\n",
    "    rhs = [tuple(result[2][0][1])[0] for result in results]\n",
    "    supports = [result[1] for result in results]\n",
    "    confidences = [result[2][0][2] for result in results]\n",
    "    lifts = [result[2][0][3] for result in results]\n",
    "\n",
    "    return list(zip(lhs, rhs, supports, confidences, lifts))\n",
    "resultsInDataframe = pd.DataFrame(\n",
    "    inspect(results),\n",
    "    columns = [\n",
    "        \"Left Hand Side\",\n",
    "        'Right Hand Side',\n",
    "        \"Support\",\n",
    "        \"Confidence\",\n",
    "        \"Lift\"\n",
    "    ]\n",
    ")"
   ],
   "metadata": {
    "collapsed": false,
    "ExecuteTime": {
     "start_time": "2023-04-27T13:25:05.484167Z",
     "end_time": "2023-04-27T13:25:05.497669Z"
    }
   }
  },
  {
   "cell_type": "markdown",
   "source": [
    "## Displaying the results on sorted"
   ],
   "metadata": {
    "collapsed": false
   }
  },
  {
   "cell_type": "code",
   "execution_count": 9,
   "outputs": [
    {
     "data": {
      "text/plain": "         Left Hand Side Right Hand Side   Support  Confidence      Lift\n0           light cream         chicken  0.004533    0.290598  4.843951\n1  mushroom cream sauce        escalope  0.005733    0.300699  3.790833\n2                 pasta        escalope  0.005866    0.372881  4.700812\n3         fromage blanc           honey  0.003333    0.245098  5.164271\n4         herb & pepper     ground beef  0.015998    0.323450  3.291994\n5          tomato sauce     ground beef  0.005333    0.377358  3.840659\n6           light cream       olive oil  0.003200    0.205128  3.114710\n7     whole wheat pasta       olive oil  0.007999    0.271493  4.122410\n8                 pasta          shrimp  0.005066    0.322034  4.506672",
      "text/html": "<div>\n<style scoped>\n    .dataframe tbody tr th:only-of-type {\n        vertical-align: middle;\n    }\n\n    .dataframe tbody tr th {\n        vertical-align: top;\n    }\n\n    .dataframe thead th {\n        text-align: right;\n    }\n</style>\n<table border=\"1\" class=\"dataframe\">\n  <thead>\n    <tr style=\"text-align: right;\">\n      <th></th>\n      <th>Left Hand Side</th>\n      <th>Right Hand Side</th>\n      <th>Support</th>\n      <th>Confidence</th>\n      <th>Lift</th>\n    </tr>\n  </thead>\n  <tbody>\n    <tr>\n      <th>0</th>\n      <td>light cream</td>\n      <td>chicken</td>\n      <td>0.004533</td>\n      <td>0.290598</td>\n      <td>4.843951</td>\n    </tr>\n    <tr>\n      <th>1</th>\n      <td>mushroom cream sauce</td>\n      <td>escalope</td>\n      <td>0.005733</td>\n      <td>0.300699</td>\n      <td>3.790833</td>\n    </tr>\n    <tr>\n      <th>2</th>\n      <td>pasta</td>\n      <td>escalope</td>\n      <td>0.005866</td>\n      <td>0.372881</td>\n      <td>4.700812</td>\n    </tr>\n    <tr>\n      <th>3</th>\n      <td>fromage blanc</td>\n      <td>honey</td>\n      <td>0.003333</td>\n      <td>0.245098</td>\n      <td>5.164271</td>\n    </tr>\n    <tr>\n      <th>4</th>\n      <td>herb &amp; pepper</td>\n      <td>ground beef</td>\n      <td>0.015998</td>\n      <td>0.323450</td>\n      <td>3.291994</td>\n    </tr>\n    <tr>\n      <th>5</th>\n      <td>tomato sauce</td>\n      <td>ground beef</td>\n      <td>0.005333</td>\n      <td>0.377358</td>\n      <td>3.840659</td>\n    </tr>\n    <tr>\n      <th>6</th>\n      <td>light cream</td>\n      <td>olive oil</td>\n      <td>0.003200</td>\n      <td>0.205128</td>\n      <td>3.114710</td>\n    </tr>\n    <tr>\n      <th>7</th>\n      <td>whole wheat pasta</td>\n      <td>olive oil</td>\n      <td>0.007999</td>\n      <td>0.271493</td>\n      <td>4.122410</td>\n    </tr>\n    <tr>\n      <th>8</th>\n      <td>pasta</td>\n      <td>shrimp</td>\n      <td>0.005066</td>\n      <td>0.322034</td>\n      <td>4.506672</td>\n    </tr>\n  </tbody>\n</table>\n</div>"
     },
     "execution_count": 9,
     "metadata": {},
     "output_type": "execute_result"
    }
   ],
   "source": [
    "resultsInDataframe"
   ],
   "metadata": {
    "collapsed": false,
    "ExecuteTime": {
     "start_time": "2023-04-27T13:25:09.780171Z",
     "end_time": "2023-04-27T13:25:09.792666Z"
    }
   }
  },
  {
   "cell_type": "markdown",
   "source": [
    "## Displayed the results sorted by descending lift"
   ],
   "metadata": {
    "collapsed": false
   }
  },
  {
   "cell_type": "code",
   "execution_count": 11,
   "outputs": [
    {
     "data": {
      "text/plain": "         Left Hand Side Right Hand Side   Support  Confidence      Lift\n3         fromage blanc           honey  0.003333    0.245098  5.164271\n0           light cream         chicken  0.004533    0.290598  4.843951\n2                 pasta        escalope  0.005866    0.372881  4.700812\n8                 pasta          shrimp  0.005066    0.322034  4.506672\n7     whole wheat pasta       olive oil  0.007999    0.271493  4.122410\n5          tomato sauce     ground beef  0.005333    0.377358  3.840659\n1  mushroom cream sauce        escalope  0.005733    0.300699  3.790833\n4         herb & pepper     ground beef  0.015998    0.323450  3.291994\n6           light cream       olive oil  0.003200    0.205128  3.114710",
      "text/html": "<div>\n<style scoped>\n    .dataframe tbody tr th:only-of-type {\n        vertical-align: middle;\n    }\n\n    .dataframe tbody tr th {\n        vertical-align: top;\n    }\n\n    .dataframe thead th {\n        text-align: right;\n    }\n</style>\n<table border=\"1\" class=\"dataframe\">\n  <thead>\n    <tr style=\"text-align: right;\">\n      <th></th>\n      <th>Left Hand Side</th>\n      <th>Right Hand Side</th>\n      <th>Support</th>\n      <th>Confidence</th>\n      <th>Lift</th>\n    </tr>\n  </thead>\n  <tbody>\n    <tr>\n      <th>3</th>\n      <td>fromage blanc</td>\n      <td>honey</td>\n      <td>0.003333</td>\n      <td>0.245098</td>\n      <td>5.164271</td>\n    </tr>\n    <tr>\n      <th>0</th>\n      <td>light cream</td>\n      <td>chicken</td>\n      <td>0.004533</td>\n      <td>0.290598</td>\n      <td>4.843951</td>\n    </tr>\n    <tr>\n      <th>2</th>\n      <td>pasta</td>\n      <td>escalope</td>\n      <td>0.005866</td>\n      <td>0.372881</td>\n      <td>4.700812</td>\n    </tr>\n    <tr>\n      <th>8</th>\n      <td>pasta</td>\n      <td>shrimp</td>\n      <td>0.005066</td>\n      <td>0.322034</td>\n      <td>4.506672</td>\n    </tr>\n    <tr>\n      <th>7</th>\n      <td>whole wheat pasta</td>\n      <td>olive oil</td>\n      <td>0.007999</td>\n      <td>0.271493</td>\n      <td>4.122410</td>\n    </tr>\n    <tr>\n      <th>5</th>\n      <td>tomato sauce</td>\n      <td>ground beef</td>\n      <td>0.005333</td>\n      <td>0.377358</td>\n      <td>3.840659</td>\n    </tr>\n    <tr>\n      <th>1</th>\n      <td>mushroom cream sauce</td>\n      <td>escalope</td>\n      <td>0.005733</td>\n      <td>0.300699</td>\n      <td>3.790833</td>\n    </tr>\n    <tr>\n      <th>4</th>\n      <td>herb &amp; pepper</td>\n      <td>ground beef</td>\n      <td>0.015998</td>\n      <td>0.323450</td>\n      <td>3.291994</td>\n    </tr>\n    <tr>\n      <th>6</th>\n      <td>light cream</td>\n      <td>olive oil</td>\n      <td>0.003200</td>\n      <td>0.205128</td>\n      <td>3.114710</td>\n    </tr>\n  </tbody>\n</table>\n</div>"
     },
     "execution_count": 11,
     "metadata": {},
     "output_type": "execute_result"
    }
   ],
   "source": [
    "resultsInDataframe.nlargest(\n",
    "    n = 10,\n",
    "    columns = 'Lift'\n",
    ")"
   ],
   "metadata": {
    "collapsed": false,
    "ExecuteTime": {
     "start_time": "2023-04-27T13:29:36.781170Z",
     "end_time": "2023-04-27T13:29:36.791667Z"
    }
   }
  },
  {
   "cell_type": "code",
   "execution_count": null,
   "outputs": [],
   "source": [],
   "metadata": {
    "collapsed": false
   }
  }
 ],
 "metadata": {
  "kernelspec": {
   "display_name": "Python 3",
   "language": "python",
   "name": "python3"
  },
  "language_info": {
   "codemirror_mode": {
    "name": "ipython",
    "version": 2
   },
   "file_extension": ".py",
   "mimetype": "text/x-python",
   "name": "python",
   "nbconvert_exporter": "python",
   "pygments_lexer": "ipython2",
   "version": "2.7.6"
  }
 },
 "nbformat": 4,
 "nbformat_minor": 0
}
